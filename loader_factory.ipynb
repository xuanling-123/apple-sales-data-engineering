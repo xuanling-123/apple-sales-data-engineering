{
 "cells": [
  {
   "cell_type": "code",
   "execution_count": 0,
   "metadata": {
    "application/vnd.databricks.v1+cell": {
     "cellMetadata": {},
     "inputWidgets": {},
     "nuid": "bac530f0-38e1-4f63-a84a-41925d023ae7",
     "showTitle": false,
     "tableResultSettingsMap": {},
     "title": ""
    }
   },
   "outputs": [],
   "source": [
    "class DataSink:\n",
    "    \"\"\"\n",
    "    Abstract class \n",
    "    \"\"\"\n",
    "\n",
    "    def __init__(self, df, path, method, params):\n",
    "        self.df = df\n",
    "        self.path = path\n",
    "        self.method = method\n",
    "        self.params = params \n",
    "\n",
    "\n",
    "    def load_data_frame(self):\n",
    "        \"\"\"\n",
    "        Abstract method, Function will be defined in sub classes\n",
    "        \"\"\"\n",
    "\n",
    "        raise ValueError(\"Not Implemented\")\n",
    "\n",
    "class LoadToDBFS(DataSink):\n",
    "\n",
    "    def load_data_frame(self):\n",
    "        \n",
    "        self.df.write.mode(self.method).save(self.path)\n",
    "\n",
    "class LoadToDBFSWithPartition(DataSink):\n",
    "\n",
    "    def load_data_frame(self):\n",
    "        \n",
    "        partitionByColumns = self.params.get(\"partitionByColumns\")\n",
    "        self.df.write.mode(self.method).partitionBy(*partitionByColumns).save(self.path)\n",
    "\n",
    "class LoadToDeltaTable(DataSink):\n",
    "\n",
    "    def load_data_frame(self):\n",
    "        \n",
    "        \n",
    "        self.df.write.format(\"delta\").mode(self.method).saveAsTable(self.path)\n",
    "\n",
    "def get_sink_source(sink_type, df, path, method, params = None):\n",
    "    if sink_type == \"dbfs\":\n",
    "        return LoadToDBFS(df, path, method, params)\n",
    "    elif sink_type == \"dbfs_with_partition\":\n",
    "        return LoadToDBFSWithPartition(df, path, method, params)\n",
    "    elif sink_type == \"delta\":\n",
    "        return LoadToDeltaTable(df, path, method, params)\n",
    "    else:\n",
    "        return ValueError(f\"Not implemented for sink type: {sink_type}\")\n",
    "\n",
    "\n",
    "\n"
   ]
  }
 ],
 "metadata": {
  "application/vnd.databricks.v1+notebook": {
   "computePreferences": null,
   "dashboards": [],
   "environmentMetadata": {
    "base_environment": "",
    "client": "1"
   },
   "language": "python",
   "notebookMetadata": {
    "pythonIndentUnit": 4
   },
   "notebookName": "loader_factory",
   "widgets": {}
  }
 },
 "nbformat": 4,
 "nbformat_minor": 0
}
