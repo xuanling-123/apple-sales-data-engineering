{
 "cells": [
  {
   "cell_type": "code",
   "execution_count": 0,
   "metadata": {
    "application/vnd.databricks.v1+cell": {
     "cellMetadata": {},
     "inputWidgets": {},
     "nuid": "a44a0bb7-5794-4972-9daf-ba1a8ecc64fa",
     "showTitle": false,
     "tableResultSettingsMap": {},
     "title": ""
    }
   },
   "outputs": [],
   "source": [
    "class DataSource:\n",
    "    \"\"\"\n",
    "    Abstract class \n",
    "    \"\"\"\n",
    "\n",
    "    def __init__(self, path):\n",
    "        self.path = path\n",
    "\n",
    "    def get_data_frame(self):\n",
    "        \"\"\"\n",
    "        Abstract method, Function will be defined in sub classes\n",
    "        \"\"\"\n",
    "\n",
    "        raise ValueError(\"Not Implemented\")\n",
    "\n",
    "class CSVDataSource(DataSource):\n",
    "    \n",
    "    def get_data_frame(self):\n",
    "\n",
    "        return (\n",
    "            spark.\n",
    "            read.\n",
    "            format(\"csv\").\n",
    "            option(\"header\", True).\n",
    "            load(self.path)\n",
    "        )\n",
    "\n",
    "class ParquetDataSource(DataSource):\n",
    "    \n",
    "    def get_data_frame(self):\n",
    "\n",
    "        return (\n",
    "            spark.\n",
    "            read.\n",
    "            format(\"parquet\").\n",
    "            load(self.path)\n",
    "        )\n",
    "\n",
    "class DeltaDataSource(DataSource):\n",
    "    \n",
    "    def get_data_frame(self):\n",
    "        \n",
    "        table_name = self.path\n",
    "        return (\n",
    "            spark.\n",
    "            read.\n",
    "            table(table_name)\n",
    "        ) \n",
    "\n",
    "def get_data_source(data_type, file_path):\n",
    "\n",
    "    if data_type == \"csv\":\n",
    "        return  CSVDataSource(file_path)\n",
    "    elif data_type == \"parquet\":\n",
    "        return  ParquetDataSource(file_path)\n",
    "    elif data_type == \"delta\":\n",
    "        return  DeltaDataSource(file_path)\n",
    "    else:\n",
    "        raise ValueError(f\"Not implemented for data_type: {data_type}\")        \n",
    "\n"
   ]
  }
 ],
 "metadata": {
  "application/vnd.databricks.v1+notebook": {
   "computePreferences": null,
   "dashboards": [],
   "environmentMetadata": {
    "base_environment": "",
    "client": "1"
   },
   "language": "python",
   "notebookMetadata": {
    "pythonIndentUnit": 4
   },
   "notebookName": "reader_factory",
   "widgets": {}
  }
 },
 "nbformat": 4,
 "nbformat_minor": 0
}
